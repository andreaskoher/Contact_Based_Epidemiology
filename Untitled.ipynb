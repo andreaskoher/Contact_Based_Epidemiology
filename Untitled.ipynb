{
 "cells": [
  {
   "cell_type": "markdown",
   "metadata": {},
   "source": [
    "# Contact-Based Epidemiology on Temporal Networks\n",
    "\n",
    "We provide a package that integrates the contact-based model for SIR type of epidemic spreading given a time-stamped edgelist. For details see:\n",
    "\n",
    "    Koher et al. [**Contact-based model for epidemic spreading on temporal networks**](https://arxiv.org/abs/1811.05809) Arxive 1811.05809, (2018)\n",
    "\n",
    "The algorithm is based on the dynamic message passing framework introduced for static networks in:  \n",
    "\n",
    "    Lokhov et al. [**Inferring the origin of an epidemic with a dynamic message-passing algorithm**](https://arxiv.org/abs/1303.5315), Phys. Rev. E 90, 1, 012801 (2014)\n",
    "\n",
    "The contact-based model allows to calculate the marginal probability to find a node in the susceptible, infected or, recovered state over time. We assume a standard non-Markovian SIR model and given a time-varying topology the function `integrate_contact_based_model` integrates the contagion process. Unlike previous approaches that focused on nodes - the individual-based (IB) approach - and thus approximated the marginal probability directly, we propose edges as central objects in the contact-based (CB) model. The shift allows to improve analytical predictions with respect to Monte-Carlo simulations as analysed in [*Koher et al.*](https://arxiv.org/abs/1811.05809).\n",
    "\n",
    "When you use this code, please cite the above references. Otherwise you are free to modify and distribute. Moreover, I am happy to receive your suggestions and critics."
   ]
  },
  {
   "cell_type": "markdown",
   "metadata": {},
   "source": [
    "### load packages"
   ]
  },
  {
   "cell_type": "code",
   "execution_count": 1,
   "metadata": {},
   "outputs": [],
   "source": [
    "from contact_based_model import integrate_contact_based_model \n",
    "import numpy as np\n",
    "import matplotlib.pyplot as plt"
   ]
  },
  {
   "cell_type": "markdown",
   "metadata": {},
   "source": [
    "### load dataset"
   ]
  },
  {
   "cell_type": "code",
   "execution_count": 2,
   "metadata": {},
   "outputs": [],
   "source": [
    "edgelist = np.loadtxt(\"sociopatterns_ht09.csv\", delimiter=\",\", dtype=int)"
   ]
  },
  {
   "cell_type": "markdown",
   "metadata": {},
   "source": [
    "### initialize parameters"
   ]
  },
  {
   "cell_type": "code",
   "execution_count": 11,
   "metadata": {},
   "outputs": [],
   "source": [
    "beta = 0.00028492214857 #recovery probability\n",
    "#beta = 0.00028 #recovery probability\n",
    "alpha = 0.02#70 * beta #infection probability\n",
    "\n",
    "kwargs = {\n",
    "    \"outbreak_origin\" : 94, # choose a node between 0 and 100 (excluded)\n",
    "    \"verbose\" : True, # progress bar using the tqdm package for jupyter notebook only\n",
    "    \"individual_based\" : False, # choose False for individual-based framework\n",
    "    \"Tmax\" : None, # maximum time step. Integrates the full edgelist if None\n",
    "    \"directed\" : False # contacts in sociopatterns_ht09.csv are undirected \n",
    "}"
   ]
  },
  {
   "cell_type": "markdown",
   "metadata": {},
   "source": [
    "### integrate contact-based model"
   ]
  },
  {
   "cell_type": "code",
   "execution_count": 12,
   "metadata": {},
   "outputs": [
    {
     "data": {
      "application/vnd.jupyter.widget-view+json": {
       "model_id": "be58e0c7c41145cf9e109e06dbf5e39e",
       "version_major": 2,
       "version_minor": 0
      },
      "text/plain": [
       "HBox(children=(IntProgress(value=0, max=4319), HTML(value=u'')))"
      ]
     },
     "metadata": {},
     "output_type": "display_data"
    },
    {
     "name": "stdout",
     "output_type": "stream",
     "text": [
      "\n"
     ]
    },
    {
     "data": {
      "image/png": "[encoded data removed]",
      "text/plain": [
       "<Figure size 432x288 with 1 Axes>"
      ]
     },
     "metadata": {},
     "output_type": "display_data"
    }
   ],
   "source": [
    "out = integrate_contact_based_model(alpha, beta, edgelist, **kwargs)\n",
    "susceptible_CB, infected_CB, recovered_CB = out\n",
    "cumulative_CB = infected_CB + recovered_CB\n",
    "\n",
    "# observation time is determined by edgelist\n",
    "# add one time step for initial condition\n",
    "Tmax = edgelist[-1,0] + 2\n",
    "time = np.arange(0, Tmax) / 180. #one time step corresponds to 20s\n",
    "\n",
    "node = 51\n",
    "plt.fill_between(time, 0, infected_CB[node], facecolor='#d64a00', label=\"infected\")\n",
    "plt.fill_between(time, infected_CB[node], cumulative_CB[node], facecolor=\"#d6d6d6\", label=\"recovered\")\n",
    "plt.fill_between(time, cumulative_CB[node], 1., facecolor='#ffd460', label=\"susceptible\")\n",
    "plt.legend()\n",
    "plt.ylabel(\"probability\")\n",
    "plt.xlabel(\"time [h]\")\n",
    "plt.savefig(\"probabilities_over_time.png\")"
   ]
  },
  {
   "cell_type": "markdown",
   "metadata": {},
   "source": [
    "### integrate individual-based model"
   ]
  },
  {
   "cell_type": "code",
   "execution_count": 5,
   "metadata": {},
   "outputs": [
    {
     "data": {
      "application/vnd.jupyter.widget-view+json": {
       "model_id": "a4ed539ac6ae46b0a0a2c3f19e40b36a",
       "version_major": 2,
       "version_minor": 0
      },
      "text/plain": [
       "HBox(children=(IntProgress(value=0, max=4319), HTML(value=u'')))"
      ]
     },
     "metadata": {},
     "output_type": "display_data"
    },
    {
     "name": "stdout",
     "output_type": "stream",
     "text": [
      "\n"
     ]
    }
   ],
   "source": [
    "kwargs[\"individual_based\"] = True\n",
    "out = integrate_contact_based_model(alpha, beta, edgelist, **kwargs)\n",
    "susceptible_IB, infected_IB, recovered_IB = out\n",
    "cumulative_IB = infected_IB + recovered_IB"
   ]
  },
  {
   "cell_type": "code",
   "execution_count": 9,
   "metadata": {},
   "outputs": [
    {
     "data": {
      "image/png": "[encoded data removed]",
      "text/plain": [
       "<Figure size 432x288 with 1 Axes>"
      ]
     },
     "metadata": {},
     "output_type": "display_data"
    }
   ],
   "source": [
    "plt.plot(time, cumulative_IB[node], label=\"IB model\")\n",
    "plt.plot(time, cumulative_CB[node], label=\"CB model\")\n",
    "plt.legend()\n",
    "plt.ylabel(\"cumulative infection probability\")\n",
    "plt.xlabel(\"time [h]\")\n",
    "plt.savefig(\"compare_IBvsCB_model.png\")"
   ]
  }
 ],
 "metadata": {
  "kernelspec": {
   "display_name": "Python 2",
   "language": "python",
   "name": "python2"
  },
  "language_info": {
   "codemirror_mode": {
    "name": "ipython",
    "version": 2
   },
   "file_extension": ".py",
   "mimetype": "text/x-python",
   "name": "python",
   "nbconvert_exporter": "python",
   "pygments_lexer": "ipython2",
   "version": "2.7.15"
  }
 },
 "nbformat": 4,
 "nbformat_minor": 2
}
